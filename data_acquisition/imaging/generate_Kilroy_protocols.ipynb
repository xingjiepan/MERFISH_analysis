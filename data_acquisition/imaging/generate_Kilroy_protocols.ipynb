{
 "cells": [
  {
   "cell_type": "code",
   "execution_count": null,
   "id": "cc15b3cc",
   "metadata": {},
   "outputs": [],
   "source": [
    "# Generate hybridization protocols\n",
    "hyb_rounds = list(range(1, 35))\n",
    "\n",
    "for i in hyb_rounds:\n",
    "    hyb_protocol = f'''\n",
    "    <protocol name = \"Hybridize {i}\">\n",
    "      <valve duration = \"5\">Set Hyb {i}</valve>\n",
    "      <pump duration = \"120\">0.50 mL/min</pump>\n",
    "      <pump duration = \"120\">Stop Flow</pump>\n",
    "      <pump duration = \"900\">0.13 mL/min</pump>\n",
    "      <valve duration = \"5\">Wash Buffer</valve>\n",
    "      <pump duration = \"120\">0.50 mL/min</pump>\n",
    "      <pump duration = \"120\">Stop Flow</pump>\n",
    "      <pump duration = \"240\">0.25 mL/min</pump>\n",
    "      <valve duration = \"5\">Imaging Buffer</valve>\n",
    "      <pump duration = \"240\">0.50 mL/min</pump>\n",
    "      <pump duration = \"120\">Stop Flow</pump>\n",
    "    </protocol>'''\n",
    "\n",
    "    print(hyb_protocol)"
   ]
  }
 ],
 "metadata": {
  "kernelspec": {
   "display_name": "Python 3",
   "language": "python",
   "name": "python3"
  },
  "language_info": {
   "codemirror_mode": {
    "name": "ipython",
    "version": 3
   },
   "file_extension": ".py",
   "mimetype": "text/x-python",
   "name": "python",
   "nbconvert_exporter": "python",
   "pygments_lexer": "ipython3",
   "version": "3.8.10"
  }
 },
 "nbformat": 4,
 "nbformat_minor": 5
}
