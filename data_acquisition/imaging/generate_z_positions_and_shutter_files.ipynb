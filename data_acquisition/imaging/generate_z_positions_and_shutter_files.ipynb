{
 "cells": [
  {
   "cell_type": "code",
   "execution_count": null,
   "id": "9ac9baf1",
   "metadata": {},
   "outputs": [],
   "source": [
    "# Define inputs for the script\n",
    "z_blocks = [{'z_start':, 'N_zs':, 'z_space':, 'channel_each_z':[]},\n",
    "            {'z_start':, 'N_zs':, 'z_space':, 'channel_each_z':[]}]\n",
    "\n",
    "shutter_file = r\"test.xml\""
   ]
  },
  {
   "cell_type": "code",
   "execution_count": null,
   "id": "5d3acdfc",
   "metadata": {},
   "outputs": [],
   "source": [
    "# Generate the z positions\n",
    "z_positions = []\n",
    "\n",
    "for z_b in z_blocks:\n",
    "    for i in range(z_b['N_zs']):\n",
    "        for j in range(len(z_b['channel_each_z'])):\n",
    "            z_positions.append(z_b['z_start'] + z_b['z_space'] * i)\n",
    "            \n",
    "print(','.join([f'{z:.1f}' for z in z_positions]))"
   ]
  },
  {
   "cell_type": "code",
   "execution_count": null,
   "id": "07804245",
   "metadata": {},
   "outputs": [],
   "source": [
    "# Generate the shutter file\n",
    "head = f'''<?xml version=\"1.0\" encoding=\"ISO-8859-1\"?>\n",
    "<repeat>\n",
    "  <oversampling>1</oversampling>\n",
    "  <frames>{len(z_positions)}</frames>\n",
    "'''\n",
    "\n",
    "events = ''\n",
    "\n",
    "end = '</repeat>'\n",
    "\n",
    "count = 0\n",
    "for z_b in z_blocks:\n",
    "    for i in range(z_b['N_zs']):\n",
    "        for j in range(len(z_b['channel_each_z'])):\n",
    "            channel = z_b['channel_each_z'][j]\n",
    "            \n",
    "            if not (channel is None):\n",
    "                events += f'''  <event>\n",
    "    <channel>{channel}</channel>\n",
    "    <power>1</power>\n",
    "    <on>{count:.1f}</on>\n",
    "    <off>{count + 1:.1f}</off>\n",
    "    <color>255,255,255</color>\n",
    "  </event>\n",
    "'''\n",
    "            count += 1   \n",
    "        \n",
    "        events += '\\n'\n",
    "\n",
    "\n",
    "print(head + events + end)\n",
    "with open(shutter_file, 'w') as f:\n",
    "    f.write(head + events + end)"
   ]
  }
 ],
 "metadata": {
  "kernelspec": {
   "display_name": "Python 3",
   "language": "python",
   "name": "python3"
  },
  "language_info": {
   "codemirror_mode": {
    "name": "ipython",
    "version": 3
   },
   "file_extension": ".py",
   "mimetype": "text/x-python",
   "name": "python",
   "nbconvert_exporter": "python",
   "pygments_lexer": "ipython3",
   "version": "3.8.10"
  }
 },
 "nbformat": 4,
 "nbformat_minor": 5
}
