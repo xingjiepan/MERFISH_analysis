{
 "cells": [
  {
   "cell_type": "code",
   "execution_count": null,
   "id": "7fe590ef",
   "metadata": {},
   "outputs": [],
   "source": [
    "contour_positions_file = r\"\"\n",
    "output_file = r\"\"\n",
    "\n",
    "fov_length = 200 # The length of the field of view in micro-meter"
   ]
  },
  {
   "cell_type": "code",
   "execution_count": null,
   "id": "3da2e834",
   "metadata": {},
   "outputs": [],
   "source": [
    "import pandas as pd\n",
    "import numpy as np\n",
    "from shapely import geometry\n",
    "from shapely.ops import cascaded_union\n",
    "\n",
    "import matplotlib.pyplot as plt"
   ]
  },
  {
   "cell_type": "code",
   "execution_count": null,
   "id": "7fbe5423",
   "metadata": {},
   "outputs": [],
   "source": [
    "# Load the contour positoins\n",
    "contour_positions = pd.read_csv(contour_positions_file, header = None, sep=',')"
   ]
  },
  {
   "cell_type": "code",
   "execution_count": null,
   "id": "ea17f600",
   "metadata": {},
   "outputs": [],
   "source": [
    "# Initialize the grid\n",
    "x_min = np.min(contour_positions[:,0])\n",
    "y_min = np.min(contour_positions[:,1])\n",
    "x_max = np.max(contour_positions[:,0])\n",
    "y_max = np.max(contour_positions[:,1])\n",
    "\n",
    "grid = []\n",
    "x_positions = np.arange(x_min - fov_length, x_max + fov_length, fov_length)\n",
    "y_positions = np.arange(y_min - fov_length, y_max + fov_length, fov_length)\n",
    "\n",
    "for i in range(len(x_positions)):\n",
    "    for j in range(len(y_positions)):\n",
    "        if i % 2 == 0:\n",
    "            grid.append([x_positions[i], y_positions[j]])\n",
    "        else:\n",
    "            grid.append([x_positions[i], y_positions[len(y_positions) - j - 1]])\n",
    "            \n",
    "grid = np.array(grid)"
   ]
  },
  {
   "cell_type": "code",
   "execution_count": null,
   "id": "2b4eedf1",
   "metadata": {},
   "outputs": [],
   "source": [
    "# Select the grids within the contour\n",
    "selected_grid = []\n",
    "area_of_interest = geometry.Polygon(contour_positions)\n",
    "\n",
    "r = fov_length / 2\n",
    "for i in range(len(grid)):\n",
    "    tile_corners = [[grid[i][0] - r, grid[i][1] - r], [grid[i][0] - r, grid[i][1] + r],\n",
    "                    [grid[i][0] + r, grid[i][1] + r], [grid[i][0] + r, grid[i][1] - r]]\n",
    "    tile = geometry.Polygon(tile_corners)\n",
    "    \n",
    "    if area_of_interest.intersects(tile):\n",
    "        selected_grid.append(grid[i])\n",
    "        \n",
    "selected_grid = np.array(selected_grid)"
   ]
  },
  {
   "cell_type": "code",
   "execution_count": null,
   "id": "33232db5",
   "metadata": {},
   "outputs": [],
   "source": [
    "# Plot the selected position grid\n",
    "plt.scatter(selected_grid[:,0], selected_grid[:,1])\n",
    "plt.scatter(contour_positions[:,0], contour_positions[:,1])\n",
    "plt.show()"
   ]
  },
  {
   "cell_type": "code",
   "execution_count": null,
   "id": "be440c2c",
   "metadata": {},
   "outputs": [],
   "source": [
    "# Save the selected position grid\n",
    "np.savetxt(output_file, selected_grid, delimiter=',')"
   ]
  }
 ],
 "metadata": {
  "kernelspec": {
   "display_name": "Python 3",
   "language": "python",
   "name": "python3"
  },
  "language_info": {
   "codemirror_mode": {
    "name": "ipython",
    "version": 3
   },
   "file_extension": ".py",
   "mimetype": "text/x-python",
   "name": "python",
   "nbconvert_exporter": "python",
   "pygments_lexer": "ipython3",
   "version": "3.8.10"
  }
 },
 "nbformat": 4,
 "nbformat_minor": 5
}
